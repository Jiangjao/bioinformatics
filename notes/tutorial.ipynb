{
 "cells": [
  {
   "cell_type": "markdown",
   "metadata": {},
   "source": [
    "# Tutorial\n",
    "The basic steps of ikarus are similar to the [sklearn workflow](https://scikit-learn.org/stable/getting_started.html#fitting-and-predicting-estimator-basics):\n",
    "\n",
    "0. load data sets\n",
    "1. init model\n",
    "2. fit model\n",
    "3. predict\n",
    "\n",
    "**Further dependencies:**\n",
    "This tutorial uses the python packages matplotlib and seaborn for visualization. These are not required by ikarus and will need to be installed separately."
   ]
  },
  {
   "cell_type": "code",
   "execution_count": null,
   "metadata": {},
   "outputs": [],
   "source": [
    "pip install anndata"
   ]
  },
  {
   "cell_type": "code",
   "execution_count": 13,
   "metadata": {},
   "outputs": [
    {
     "name": "stdout",
     "output_type": "stream",
     "text": [
      "Looking in indexes: https://mirrors.aliyun.com/pypi/simple/\n",
      "Requirement already satisfied: ikarus in /usr/local/miniconda3/envs/dl/lib/python3.7/site-packages (0.0.2)\n",
      "Requirement already satisfied: numpy in /usr/local/miniconda3/envs/dl/lib/python3.7/site-packages (from ikarus) (1.18.1)\n",
      "Requirement already satisfied: pandas in /usr/local/miniconda3/envs/dl/lib/python3.7/site-packages (from ikarus) (1.3.5)\n",
      "Requirement already satisfied: pyscenic in /usr/local/miniconda3/envs/dl/lib/python3.7/site-packages (from ikarus) (0.11.2)\n",
      "Requirement already satisfied: scipy in /usr/local/miniconda3/envs/dl/lib/python3.7/site-packages (from ikarus) (1.4.1)\n",
      "Requirement already satisfied: scanpy in /usr/local/miniconda3/envs/dl/lib/python3.7/site-packages (from ikarus) (1.9.1)\n",
      "Requirement already satisfied: anndata in /usr/local/miniconda3/envs/dl/lib/python3.7/site-packages (from ikarus) (0.8.0)\n",
      "Requirement already satisfied: pytz>=2017.3 in /usr/local/miniconda3/envs/dl/lib/python3.7/site-packages (from pandas->ikarus) (2020.1)\n",
      "Requirement already satisfied: python-dateutil>=2.7.3 in /usr/local/miniconda3/envs/dl/lib/python3.7/site-packages (from pandas->ikarus) (2.8.1)\n",
      "Requirement already satisfied: tqdm in /usr/local/miniconda3/envs/dl/lib/python3.7/site-packages (from pyscenic->ikarus) (4.46.1)\n",
      "Requirement already satisfied: frozendict in /usr/local/miniconda3/envs/dl/lib/python3.7/site-packages (from pyscenic->ikarus) (2.3.2)\n",
      "Requirement already satisfied: ctxcore in /usr/local/miniconda3/envs/dl/lib/python3.7/site-packages (from pyscenic->ikarus) (0.1.1)\n",
      "Requirement already satisfied: cloudpickle in /usr/local/miniconda3/envs/dl/lib/python3.7/site-packages (from pyscenic->ikarus) (2.1.0)\n",
      "Requirement already satisfied: dask in /usr/local/miniconda3/envs/dl/lib/python3.7/site-packages (from pyscenic->ikarus) (2022.2.0)\n",
      "Requirement already satisfied: distributed in /usr/local/miniconda3/envs/dl/lib/python3.7/site-packages (from pyscenic->ikarus) (2022.2.0)\n",
      "Requirement already satisfied: numba>=0.51.2 in /usr/local/miniconda3/envs/dl/lib/python3.7/site-packages (from pyscenic->ikarus) (0.55.2)\n",
      "Requirement already satisfied: aiohttp in /usr/local/miniconda3/envs/dl/lib/python3.7/site-packages (from pyscenic->ikarus) (3.8.1)\n",
      "Requirement already satisfied: networkx in /usr/local/miniconda3/envs/dl/lib/python3.7/site-packages (from pyscenic->ikarus) (2.4)\n",
      "Requirement already satisfied: llvmlite in /usr/local/miniconda3/envs/dl/lib/python3.7/site-packages (from pyscenic->ikarus) (0.38.1)\n",
      "Requirement already satisfied: scikit-learn>=0.22.2 in /usr/local/miniconda3/envs/dl/lib/python3.7/site-packages (from pyscenic->ikarus) (0.24.2)\n",
      "Requirement already satisfied: multiprocessing-on-dill in /usr/local/miniconda3/envs/dl/lib/python3.7/site-packages (from pyscenic->ikarus) (3.5.0a4)\n",
      "Requirement already satisfied: interlap in /usr/local/miniconda3/envs/dl/lib/python3.7/site-packages (from pyscenic->ikarus) (0.2.7)\n",
      "Requirement already satisfied: umap-learn in /usr/local/miniconda3/envs/dl/lib/python3.7/site-packages (from pyscenic->ikarus) (0.5.3)\n",
      "Requirement already satisfied: boltons in /usr/local/miniconda3/envs/dl/lib/python3.7/site-packages (from pyscenic->ikarus) (21.0.0)\n",
      "Requirement already satisfied: requests in /usr/local/miniconda3/envs/dl/lib/python3.7/site-packages (from pyscenic->ikarus) (2.24.0)\n",
      "Requirement already satisfied: fsspec in /usr/local/miniconda3/envs/dl/lib/python3.7/site-packages (from pyscenic->ikarus) (2022.5.0)\n",
      "Requirement already satisfied: attrs in /usr/local/miniconda3/envs/dl/lib/python3.7/site-packages (from pyscenic->ikarus) (19.3.0)\n",
      "Requirement already satisfied: setuptools in /usr/local/miniconda3/envs/dl/lib/python3.7/site-packages (from pyscenic->ikarus) (47.3.0.post20200616)\n",
      "Requirement already satisfied: pyyaml in /usr/local/miniconda3/envs/dl/lib/python3.7/site-packages (from pyscenic->ikarus) (5.3.1)\n",
      "Requirement already satisfied: loompy in /usr/local/miniconda3/envs/dl/lib/python3.7/site-packages (from pyscenic->ikarus) (3.0.7)\n",
      "Requirement already satisfied: cytoolz in /usr/local/miniconda3/envs/dl/lib/python3.7/site-packages (from pyscenic->ikarus) (0.11.2)\n",
      "Requirement already satisfied: arboreto>=0.1.6 in /usr/local/miniconda3/envs/dl/lib/python3.7/site-packages (from pyscenic->ikarus) (0.1.6)\n",
      "Requirement already satisfied: matplotlib>=3.4 in /usr/local/miniconda3/envs/dl/lib/python3.7/site-packages (from scanpy->ikarus) (3.5.2)\n",
      "Requirement already satisfied: seaborn in /usr/local/miniconda3/envs/dl/lib/python3.7/site-packages (from scanpy->ikarus) (0.11.2)\n",
      "Requirement already satisfied: statsmodels>=0.10.0rc2 in /usr/local/miniconda3/envs/dl/lib/python3.7/site-packages (from scanpy->ikarus) (0.13.2)\n",
      "Requirement already satisfied: importlib_metadata>=0.7; python_version < \"3.8\" in /usr/local/miniconda3/envs/dl/lib/python3.7/site-packages (from scanpy->ikarus) (1.6.1)\n",
      "Requirement already satisfied: joblib in /usr/local/miniconda3/envs/dl/lib/python3.7/site-packages (from scanpy->ikarus) (0.15.1)\n",
      "Requirement already satisfied: packaging in /usr/local/miniconda3/envs/dl/lib/python3.7/site-packages (from scanpy->ikarus) (20.4)\n",
      "Requirement already satisfied: session-info in /usr/local/miniconda3/envs/dl/lib/python3.7/site-packages (from scanpy->ikarus) (1.0.0)\n",
      "Requirement already satisfied: natsort in /usr/local/miniconda3/envs/dl/lib/python3.7/site-packages (from scanpy->ikarus) (8.1.0)\n",
      "Requirement already satisfied: h5py>=3 in /usr/local/miniconda3/envs/dl/lib/python3.7/site-packages (from scanpy->ikarus) (3.7.0)\n",
      "Requirement already satisfied: patsy in /usr/local/miniconda3/envs/dl/lib/python3.7/site-packages (from scanpy->ikarus) (0.5.2)\n",
      "Requirement already satisfied: typing_extensions; python_version < \"3.8\" in /usr/local/miniconda3/envs/dl/lib/python3.7/site-packages (from anndata->ikarus) (3.7.4.1)\n",
      "Requirement already satisfied: six>=1.5 in /usr/local/miniconda3/envs/dl/lib/python3.7/site-packages (from python-dateutil>=2.7.3->pandas->ikarus) (1.15.0)\n",
      "Requirement already satisfied: pyarrow<0.17.0,>=0.11.1 in /usr/local/miniconda3/envs/dl/lib/python3.7/site-packages (from ctxcore->pyscenic->ikarus) (0.16.0)\n",
      "Requirement already satisfied: partd>=0.3.10 in /usr/local/miniconda3/envs/dl/lib/python3.7/site-packages (from dask->pyscenic->ikarus) (1.2.0)\n",
      "Requirement already satisfied: toolz>=0.8.2 in /usr/local/miniconda3/envs/dl/lib/python3.7/site-packages (from dask->pyscenic->ikarus) (0.11.2)\n",
      "Requirement already satisfied: click>=6.6 in /usr/local/miniconda3/envs/dl/lib/python3.7/site-packages (from distributed->pyscenic->ikarus) (7.1.2)\n",
      "Requirement already satisfied: psutil>=5.0 in /usr/local/miniconda3/envs/dl/lib/python3.7/site-packages (from distributed->pyscenic->ikarus) (5.9.1)\n",
      "Requirement already satisfied: tornado>=5; python_version < \"3.8\" in /usr/local/miniconda3/envs/dl/lib/python3.7/site-packages (from distributed->pyscenic->ikarus) (5.1.1)\n",
      "Requirement already satisfied: msgpack>=0.6.0 in /usr/local/miniconda3/envs/dl/lib/python3.7/site-packages (from distributed->pyscenic->ikarus) (1.0.4)\n",
      "Requirement already satisfied: sortedcontainers!=2.0.0,!=2.0.1 in /usr/local/miniconda3/envs/dl/lib/python3.7/site-packages (from distributed->pyscenic->ikarus) (2.4.0)\n",
      "Requirement already satisfied: jinja2 in /usr/local/miniconda3/envs/dl/lib/python3.7/site-packages (from distributed->pyscenic->ikarus) (2.11.2)\n",
      "Requirement already satisfied: zict>=0.1.3 in /usr/local/miniconda3/envs/dl/lib/python3.7/site-packages (from distributed->pyscenic->ikarus) (2.2.0)\n",
      "Requirement already satisfied: tblib>=1.6.0 in /usr/local/miniconda3/envs/dl/lib/python3.7/site-packages (from distributed->pyscenic->ikarus) (1.7.0)\n",
      "Requirement already satisfied: async-timeout<5.0,>=4.0.0a3 in /usr/local/miniconda3/envs/dl/lib/python3.7/site-packages (from aiohttp->pyscenic->ikarus) (4.0.2)\n",
      "Requirement already satisfied: yarl<2.0,>=1.0 in /usr/local/miniconda3/envs/dl/lib/python3.7/site-packages (from aiohttp->pyscenic->ikarus) (1.7.2)\n",
      "Requirement already satisfied: charset-normalizer<3.0,>=2.0 in /usr/local/miniconda3/envs/dl/lib/python3.7/site-packages (from aiohttp->pyscenic->ikarus) (2.0.12)\n",
      "Requirement already satisfied: frozenlist>=1.1.1 in /usr/local/miniconda3/envs/dl/lib/python3.7/site-packages (from aiohttp->pyscenic->ikarus) (1.3.0)\n",
      "Requirement already satisfied: aiosignal>=1.1.2 in /usr/local/miniconda3/envs/dl/lib/python3.7/site-packages (from aiohttp->pyscenic->ikarus) (1.2.0)\n",
      "Requirement already satisfied: asynctest==0.13.0; python_version < \"3.8\" in /usr/local/miniconda3/envs/dl/lib/python3.7/site-packages (from aiohttp->pyscenic->ikarus) (0.13.0)\n",
      "Requirement already satisfied: multidict<7.0,>=4.5 in /usr/local/miniconda3/envs/dl/lib/python3.7/site-packages (from aiohttp->pyscenic->ikarus) (6.0.2)\n",
      "Requirement already satisfied: decorator>=4.3.0 in /usr/local/miniconda3/envs/dl/lib/python3.7/site-packages (from networkx->pyscenic->ikarus) (4.4.2)\n",
      "Requirement already satisfied: threadpoolctl>=2.0.0 in /usr/local/miniconda3/envs/dl/lib/python3.7/site-packages (from scikit-learn>=0.22.2->pyscenic->ikarus) (2.1.0)\n",
      "Requirement already satisfied: dill in /usr/local/miniconda3/envs/dl/lib/python3.7/site-packages (from multiprocessing-on-dill->pyscenic->ikarus) (0.3.5.1)\n",
      "Requirement already satisfied: pynndescent>=0.5 in /usr/local/miniconda3/envs/dl/lib/python3.7/site-packages (from umap-learn->pyscenic->ikarus) (0.5.7)\n",
      "Requirement already satisfied: chardet<4,>=3.0.2 in /usr/local/miniconda3/envs/dl/lib/python3.7/site-packages (from requests->pyscenic->ikarus) (3.0.4)\n",
      "Requirement already satisfied: idna<3,>=2.5 in /usr/local/miniconda3/envs/dl/lib/python3.7/site-packages (from requests->pyscenic->ikarus) (2.9)\n",
      "Requirement already satisfied: certifi>=2017.4.17 in /usr/local/miniconda3/envs/dl/lib/python3.7/site-packages (from requests->pyscenic->ikarus) (2020.4.5.2)\n",
      "Requirement already satisfied: urllib3!=1.25.0,!=1.25.1,<1.26,>=1.21.1 in /usr/local/miniconda3/envs/dl/lib/python3.7/site-packages (from requests->pyscenic->ikarus) (1.25.9)\n",
      "Requirement already satisfied: numpy-groupies in /usr/local/miniconda3/envs/dl/lib/python3.7/site-packages (from loompy->pyscenic->ikarus) (0.9.17)\n",
      "Requirement already satisfied: pillow>=6.2.0 in /usr/local/miniconda3/envs/dl/lib/python3.7/site-packages (from matplotlib>=3.4->scanpy->ikarus) (7.1.2)\n",
      "Requirement already satisfied: cycler>=0.10 in /usr/local/miniconda3/envs/dl/lib/python3.7/site-packages (from matplotlib>=3.4->scanpy->ikarus) (0.10.0)\n",
      "Requirement already satisfied: fonttools>=4.22.0 in /usr/local/miniconda3/envs/dl/lib/python3.7/site-packages (from matplotlib>=3.4->scanpy->ikarus) (4.33.3)\n",
      "Requirement already satisfied: kiwisolver>=1.0.1 in /usr/local/miniconda3/envs/dl/lib/python3.7/site-packages (from matplotlib>=3.4->scanpy->ikarus) (1.2.0)\n",
      "Requirement already satisfied: pyparsing>=2.2.1 in /usr/local/miniconda3/envs/dl/lib/python3.7/site-packages (from matplotlib>=3.4->scanpy->ikarus) (2.4.7)\n",
      "Requirement already satisfied: zipp>=0.5 in /usr/local/miniconda3/envs/dl/lib/python3.7/site-packages (from importlib_metadata>=0.7; python_version < \"3.8\"->scanpy->ikarus) (3.1.0)\n",
      "Requirement already satisfied: stdlib-list in /usr/local/miniconda3/envs/dl/lib/python3.7/site-packages (from session-info->scanpy->ikarus) (0.8.0)\n",
      "Requirement already satisfied: locket in /usr/local/miniconda3/envs/dl/lib/python3.7/site-packages (from partd>=0.3.10->dask->pyscenic->ikarus) (1.0.0)\n",
      "Requirement already satisfied: MarkupSafe>=0.23 in /usr/local/miniconda3/envs/dl/lib/python3.7/site-packages (from jinja2->distributed->pyscenic->ikarus) (1.1.1)\n",
      "Requirement already satisfied: heapdict in /usr/local/miniconda3/envs/dl/lib/python3.7/site-packages (from zict>=0.1.3->distributed->pyscenic->ikarus) (1.0.1)\n",
      "\u001b[33mWARNING: You are using pip version 20.2.4; however, version 22.1.2 is available.\n",
      "You should consider upgrading via the '/usr/local/miniconda3/envs/dl/bin/python -m pip install --upgrade pip' command.\u001b[0m\n",
      "Note: you may need to restart the kernel to use updated packages.\n"
     ]
    }
   ],
   "source": [
    "pip install ikarus "
   ]
  },
  {
   "cell_type": "code",
   "execution_count": 7,
   "metadata": {},
   "outputs": [],
   "source": [
    "import urllib.request\n",
    "import anndata\n",
    "import pandas as pd\n",
    "from pathlib import Path\n",
    "from ikarus import classifier, utils, data"
   ]
  },
  {
   "cell_type": "markdown",
   "metadata": {},
   "source": [
    "## load data sets\n",
    "For this tutorial first, we will download single cell gene expression information for three different cancer types. The download takes about 1.6 GB of disk space.  \n",
    "\n",
    "Laughney lung cancer and Lee colorectal cancer are used for training. Tirosh head & neck cancer is used for testing. Here we rely on annotated data matrices (see [AnnData](https://anndata.readthedocs.io/en/latest/anndata.AnnData.html) for further information.)  \n",
    "\n",
    "The provided AnnData objects are already preprocessed, else it would be recommended to do `adata = data.preprocess_adata(adata)` first."
   ]
  },
  {
   "cell_type": "code",
   "execution_count": 8,
   "metadata": {},
   "outputs": [],
   "source": [
    "Path(\"data\").mkdir(exist_ok=True)\n",
    "\n",
    "if not Path(\"data/laughney20_lung/adata.h5ad\").is_file():\n",
    "    Path(\"data/laughney20_lung\").mkdir(exist_ok=True)\n",
    "    urllib.request.urlretrieve(\n",
    "        url=\"https://bimsbstatic.mdc-berlin.de/akalin/Ikarus/part_1/data/laughney20_lung/adata.h5ad\",\n",
    "        filename=Path(\"data/laughney20_lung/adata.h5ad\")\n",
    "    )\n",
    "    \n",
    "if not Path(\"data/lee20_crc/adata.h5ad\").is_file():\n",
    "    Path(\"data/lee20_crc\").mkdir(exist_ok=True)\n",
    "    urllib.request.urlretrieve(\n",
    "        url=\"https://bimsbstatic.mdc-berlin.de/akalin/Ikarus/part_1/data/lee20_crc/adata.h5ad\",\n",
    "        filename=Path(\"data/lee20_crc/adata.h5ad\")\n",
    "    )\n",
    "\n",
    "if not Path(\"data/tirosh17_headneck/adata.h5ad\").is_file():\n",
    "    Path(\"data/tirosh17_headneck\").mkdir(exist_ok=True)\n",
    "    urllib.request.urlretrieve(\n",
    "        url=\"https://bimsbstatic.mdc-berlin.de/akalin/Ikarus/part_1/data/tirosh17_headneck/adata.h5ad\",\n",
    "        filename=Path(\"data/tirosh17_headneck/adata.h5ad\")\n",
    "    )"
   ]
  },
  {
   "cell_type": "code",
   "execution_count": 88,
   "metadata": {},
   "outputs": [],
   "source": [
    "paths = [\n",
    "    Path(\"data/laughney20_lung/\"),\n",
    "    Path(\"data/lee20_crc/\"),\n",
    "    Path(\"data/tirosh17_headneck/\")\n",
    "]\n",
    "names = [\n",
    "    \"laughney\",\n",
    "    \"lee\",\n",
    "    \"tirosh\"\n",
    "]\n",
    "adatas = {}\n",
    "for path, name in zip(paths, names):\n",
    "    adatas[name] = anndata.read_h5ad(path / \"adata.h5ad\")\n",
    "    # Uncomment to perform preprocessing. Here, the loaded anndata objects are already preprocessed. \n",
    "    adatas[name] = data.preprocess_adata(adatas[name])"
   ]
  },
  {
   "cell_type": "code",
   "execution_count": 52,
   "metadata": {},
   "outputs": [
    {
     "data": {
      "text/html": [
       "<div>\n",
       "<style scoped>\n",
       "    .dataframe tbody tr th:only-of-type {\n",
       "        vertical-align: middle;\n",
       "    }\n",
       "\n",
       "    .dataframe tbody tr th {\n",
       "        vertical-align: top;\n",
       "    }\n",
       "\n",
       "    .dataframe thead th {\n",
       "        text-align: right;\n",
       "    }\n",
       "</style>\n",
       "<table border=\"1\" class=\"dataframe\">\n",
       "  <thead>\n",
       "    <tr style=\"text-align: right;\">\n",
       "      <th></th>\n",
       "      <th>raw</th>\n",
       "      <th>major</th>\n",
       "      <th>major_hallmark_corrected</th>\n",
       "      <th>tier_0</th>\n",
       "      <th>tier_1</th>\n",
       "      <th>tier_2</th>\n",
       "      <th>tier_3</th>\n",
       "      <th>tier_4</th>\n",
       "      <th>tier_5</th>\n",
       "      <th>tier_0_hallmark_corrected</th>\n",
       "    </tr>\n",
       "  </thead>\n",
       "  <tbody>\n",
       "    <tr>\n",
       "      <th>0</th>\n",
       "      <td>CMS2</td>\n",
       "      <td>Tumor</td>\n",
       "      <td>Tumor</td>\n",
       "      <td>Tumor</td>\n",
       "      <td>Epithelial</td>\n",
       "      <td>nan</td>\n",
       "      <td>nan</td>\n",
       "      <td>nan</td>\n",
       "      <td>nan</td>\n",
       "      <td>Tumor</td>\n",
       "    </tr>\n",
       "    <tr>\n",
       "      <th>1</th>\n",
       "      <td>CMS2</td>\n",
       "      <td>Tumor</td>\n",
       "      <td>Tumor</td>\n",
       "      <td>Tumor</td>\n",
       "      <td>Epithelial</td>\n",
       "      <td>nan</td>\n",
       "      <td>nan</td>\n",
       "      <td>nan</td>\n",
       "      <td>nan</td>\n",
       "      <td>Tumor</td>\n",
       "    </tr>\n",
       "  </tbody>\n",
       "</table>\n",
       "</div>"
      ],
      "text/plain": [
       "    raw  major major_hallmark_corrected tier_0      tier_1 tier_2 tier_3  \\\n",
       "0  CMS2  Tumor                    Tumor  Tumor  Epithelial    nan    nan   \n",
       "1  CMS2  Tumor                    Tumor  Tumor  Epithelial    nan    nan   \n",
       "\n",
       "  tier_4 tier_5 tier_0_hallmark_corrected  \n",
       "0    nan    nan                     Tumor  \n",
       "1    nan    nan                     Tumor  "
      ]
     },
     "execution_count": 52,
     "metadata": {},
     "output_type": "execute_result"
    }
   ],
   "source": [
    "adatas[\"lee\"].obs.head(2)"
   ]
  },
  {
   "cell_type": "code",
   "execution_count": 53,
   "metadata": {},
   "outputs": [
    {
     "data": {
      "text/html": [
       "<div>\n",
       "<style scoped>\n",
       "    .dataframe tbody tr th:only-of-type {\n",
       "        vertical-align: middle;\n",
       "    }\n",
       "\n",
       "    .dataframe tbody tr th {\n",
       "        vertical-align: top;\n",
       "    }\n",
       "\n",
       "    .dataframe thead th {\n",
       "        text-align: right;\n",
       "    }\n",
       "</style>\n",
       "<table border=\"1\" class=\"dataframe\">\n",
       "  <thead>\n",
       "    <tr style=\"text-align: right;\">\n",
       "      <th></th>\n",
       "      <th>gene_symbol</th>\n",
       "    </tr>\n",
       "  </thead>\n",
       "  <tbody>\n",
       "    <tr>\n",
       "      <th>A1BG</th>\n",
       "      <td>A1BG</td>\n",
       "    </tr>\n",
       "    <tr>\n",
       "      <th>A1BG-AS1</th>\n",
       "      <td>A1BG-AS1</td>\n",
       "    </tr>\n",
       "  </tbody>\n",
       "</table>\n",
       "</div>"
      ],
      "text/plain": [
       "         gene_symbol\n",
       "A1BG            A1BG\n",
       "A1BG-AS1    A1BG-AS1"
      ]
     },
     "execution_count": 53,
     "metadata": {},
     "output_type": "execute_result"
    }
   ],
   "source": [
    "adatas[\"lee\"].var.head(2)"
   ]
  },
  {
   "cell_type": "code",
   "execution_count": 54,
   "metadata": {},
   "outputs": [
    {
     "data": {
      "text/html": [
       "<div>\n",
       "<style scoped>\n",
       "    .dataframe tbody tr th:only-of-type {\n",
       "        vertical-align: middle;\n",
       "    }\n",
       "\n",
       "    .dataframe tbody tr th {\n",
       "        vertical-align: top;\n",
       "    }\n",
       "\n",
       "    .dataframe thead th {\n",
       "        text-align: right;\n",
       "    }\n",
       "</style>\n",
       "<table border=\"1\" class=\"dataframe\">\n",
       "  <thead>\n",
       "    <tr style=\"text-align: right;\">\n",
       "      <th></th>\n",
       "      <th>A1BG</th>\n",
       "      <th>A1BG-AS1</th>\n",
       "      <th>A1CF</th>\n",
       "      <th>A2M</th>\n",
       "      <th>A2M-AS1</th>\n",
       "      <th>A2ML1</th>\n",
       "      <th>A2ML1-AS1</th>\n",
       "      <th>A2ML1-AS2</th>\n",
       "      <th>A3GALT2</th>\n",
       "      <th>A4GALT</th>\n",
       "      <th>...</th>\n",
       "      <th>ZXDC</th>\n",
       "      <th>ZYG11A</th>\n",
       "      <th>ZYG11B</th>\n",
       "      <th>ZYX</th>\n",
       "      <th>ZZEF1</th>\n",
       "      <th>ZZZ3</th>\n",
       "      <th>bP-21264C1.2</th>\n",
       "      <th>bP-2171C21.3</th>\n",
       "      <th>bP-2189O9.3</th>\n",
       "      <th>hsa-mir-1253</th>\n",
       "    </tr>\n",
       "  </thead>\n",
       "  <tbody>\n",
       "    <tr>\n",
       "      <th>0</th>\n",
       "      <td>0.0</td>\n",
       "      <td>0.0</td>\n",
       "      <td>0.000000</td>\n",
       "      <td>0.0</td>\n",
       "      <td>0.0</td>\n",
       "      <td>0.0</td>\n",
       "      <td>0.0</td>\n",
       "      <td>0.0</td>\n",
       "      <td>0.0</td>\n",
       "      <td>0.0</td>\n",
       "      <td>...</td>\n",
       "      <td>0.0</td>\n",
       "      <td>0.0</td>\n",
       "      <td>0.00000</td>\n",
       "      <td>0.564348</td>\n",
       "      <td>0.00000</td>\n",
       "      <td>0.0</td>\n",
       "      <td>0.0</td>\n",
       "      <td>0.0</td>\n",
       "      <td>0.0</td>\n",
       "      <td>0.0</td>\n",
       "    </tr>\n",
       "    <tr>\n",
       "      <th>1</th>\n",
       "      <td>0.0</td>\n",
       "      <td>0.0</td>\n",
       "      <td>0.850318</td>\n",
       "      <td>0.0</td>\n",
       "      <td>0.0</td>\n",
       "      <td>0.0</td>\n",
       "      <td>0.0</td>\n",
       "      <td>0.0</td>\n",
       "      <td>0.0</td>\n",
       "      <td>0.0</td>\n",
       "      <td>...</td>\n",
       "      <td>0.0</td>\n",
       "      <td>0.0</td>\n",
       "      <td>0.55817</td>\n",
       "      <td>1.285862</td>\n",
       "      <td>0.55817</td>\n",
       "      <td>0.0</td>\n",
       "      <td>0.0</td>\n",
       "      <td>0.0</td>\n",
       "      <td>0.0</td>\n",
       "      <td>0.0</td>\n",
       "    </tr>\n",
       "  </tbody>\n",
       "</table>\n",
       "<p>2 rows × 33694 columns</p>\n",
       "</div>"
      ],
      "text/plain": [
       "   A1BG  A1BG-AS1      A1CF  A2M  A2M-AS1  A2ML1  A2ML1-AS1  A2ML1-AS2  \\\n",
       "0   0.0       0.0  0.000000  0.0      0.0    0.0        0.0        0.0   \n",
       "1   0.0       0.0  0.850318  0.0      0.0    0.0        0.0        0.0   \n",
       "\n",
       "   A3GALT2  A4GALT  ...  ZXDC  ZYG11A   ZYG11B       ZYX    ZZEF1  ZZZ3  \\\n",
       "0      0.0     0.0  ...   0.0     0.0  0.00000  0.564348  0.00000   0.0   \n",
       "1      0.0     0.0  ...   0.0     0.0  0.55817  1.285862  0.55817   0.0   \n",
       "\n",
       "   bP-21264C1.2  bP-2171C21.3  bP-2189O9.3  hsa-mir-1253  \n",
       "0           0.0           0.0          0.0           0.0  \n",
       "1           0.0           0.0          0.0           0.0  \n",
       "\n",
       "[2 rows x 33694 columns]"
      ]
     },
     "execution_count": 54,
     "metadata": {},
     "output_type": "execute_result"
    }
   ],
   "source": [
    "adatas[\"lee\"].to_df().head(2)"
   ]
  },
  {
   "cell_type": "markdown",
   "metadata": {},
   "source": [
    "## signatures\n",
    "Here we just define the path of our gene signatures of choice (find more information on how the gene lists are created [below](#create-gene-lists)).\n",
    "\n",
    "Note: It is important that the name (see first column in the example) of the gene lists within the `signatures.gmt` file correspond to the cell type for which they are meaningful. `signatures.gmt` is tab-separated."
   ]
  },
  {
   "cell_type": "code",
   "execution_count": 55,
   "metadata": {},
   "outputs": [],
   "source": [
    "signatures_path = Path(\"out/signatures.gmt\")"
   ]
  },
  {
   "cell_type": "code",
   "execution_count": 56,
   "metadata": {},
   "outputs": [
    {
     "data": {
      "text/html": [
       "<div>\n",
       "<style scoped>\n",
       "    .dataframe tbody tr th:only-of-type {\n",
       "        vertical-align: middle;\n",
       "    }\n",
       "\n",
       "    .dataframe tbody tr th {\n",
       "        vertical-align: top;\n",
       "    }\n",
       "\n",
       "    .dataframe thead th {\n",
       "        text-align: right;\n",
       "    }\n",
       "</style>\n",
       "<table border=\"1\" class=\"dataframe\">\n",
       "  <thead>\n",
       "    <tr style=\"text-align: right;\">\n",
       "      <th></th>\n",
       "      <th>0</th>\n",
       "      <th>1</th>\n",
       "      <th>2</th>\n",
       "      <th>3</th>\n",
       "      <th>4</th>\n",
       "      <th>5</th>\n",
       "      <th>6</th>\n",
       "      <th>7</th>\n",
       "      <th>8</th>\n",
       "      <th>9</th>\n",
       "      <th>...</th>\n",
       "      <th>1305</th>\n",
       "      <th>1306</th>\n",
       "      <th>1307</th>\n",
       "      <th>1308</th>\n",
       "      <th>1309</th>\n",
       "      <th>1310</th>\n",
       "      <th>1311</th>\n",
       "      <th>1312</th>\n",
       "      <th>1313</th>\n",
       "      <th>1314</th>\n",
       "    </tr>\n",
       "  </thead>\n",
       "  <tbody>\n",
       "    <tr>\n",
       "      <th>0</th>\n",
       "      <td>Normal</td>\n",
       "      <td>ikarus</td>\n",
       "      <td>CYP2B6</td>\n",
       "      <td>GZMM</td>\n",
       "      <td>ASS1</td>\n",
       "      <td>ADIRF</td>\n",
       "      <td>FAM162B</td>\n",
       "      <td>TRAV8-6</td>\n",
       "      <td>TNFSF8</td>\n",
       "      <td>THY1</td>\n",
       "      <td>...</td>\n",
       "      <td>PDZRN3</td>\n",
       "      <td>BHLHE22</td>\n",
       "      <td>IL1R1</td>\n",
       "      <td>KLRC4-KLRK1</td>\n",
       "      <td>ARHGAP9</td>\n",
       "      <td>FAM198B</td>\n",
       "      <td>DIO3</td>\n",
       "      <td>RP11-239A17.1</td>\n",
       "      <td>FOXF1</td>\n",
       "      <td>CLIC2</td>\n",
       "    </tr>\n",
       "    <tr>\n",
       "      <th>1</th>\n",
       "      <td>Tumor</td>\n",
       "      <td>ikarus</td>\n",
       "      <td>RP11-277P12.10</td>\n",
       "      <td>RP13-895J2.6</td>\n",
       "      <td>BNC1</td>\n",
       "      <td>MAGEA6</td>\n",
       "      <td>ISX</td>\n",
       "      <td>MAGEA3</td>\n",
       "      <td>RP13-614K11.2</td>\n",
       "      <td>CDH7</td>\n",
       "      <td>...</td>\n",
       "      <td>NaN</td>\n",
       "      <td>NaN</td>\n",
       "      <td>NaN</td>\n",
       "      <td>NaN</td>\n",
       "      <td>NaN</td>\n",
       "      <td>NaN</td>\n",
       "      <td>NaN</td>\n",
       "      <td>NaN</td>\n",
       "      <td>NaN</td>\n",
       "      <td>NaN</td>\n",
       "    </tr>\n",
       "  </tbody>\n",
       "</table>\n",
       "<p>2 rows × 1315 columns</p>\n",
       "</div>"
      ],
      "text/plain": [
       "     0       1               2             3     4       5        6     \\\n",
       "0  Normal  ikarus          CYP2B6          GZMM  ASS1   ADIRF  FAM162B   \n",
       "1   Tumor  ikarus  RP11-277P12.10  RP13-895J2.6  BNC1  MAGEA6      ISX   \n",
       "\n",
       "      7              8     9     ...    1305     1306   1307         1308  \\\n",
       "0  TRAV8-6         TNFSF8  THY1  ...  PDZRN3  BHLHE22  IL1R1  KLRC4-KLRK1   \n",
       "1   MAGEA3  RP13-614K11.2  CDH7  ...     NaN      NaN    NaN          NaN   \n",
       "\n",
       "      1309     1310  1311           1312   1313   1314  \n",
       "0  ARHGAP9  FAM198B  DIO3  RP11-239A17.1  FOXF1  CLIC2  \n",
       "1      NaN      NaN   NaN            NaN    NaN    NaN  \n",
       "\n",
       "[2 rows x 1315 columns]"
      ]
     },
     "execution_count": 56,
     "metadata": {},
     "output_type": "execute_result"
    }
   ],
   "source": [
    "pd.read_csv(signatures_path, sep=\"\\t\", header=None)"
   ]
  },
  {
   "cell_type": "markdown",
   "metadata": {},
   "source": [
    "## train model\n",
    "Unlike the X and y input from the sklearn fitting, we are using here the AnnData object loaded above and the corresponding observation column (annotation). The input AnnData objects, names and target observation columns are each provided as lists. As one may want to use multiple input data sets.\n",
    "\n",
    "(Note: Here this may take a while, as the used input data sets are quite large. Skip this cell in case you just want load the pretrained model.)"
   ]
  },
  {
   "cell_type": "code",
   "execution_count": null,
   "metadata": {},
   "outputs": [],
   "source": [
    "model = classifier.Ikarus(signatures_gmt=signatures_path, out_dir=\"out\")\n",
    "\n",
    "train_adata_list = [adatas[\"laughney\"], adatas[\"lee\"]]\n",
    "train_names_list = [\"laughney\", \"lee\"]\n",
    "obs_columns_list = [\"tier_0_hallmark_corrected\", \"tier_0_hallmark_corrected\"]\n",
    "\n",
    "model.fit(train_adata_list, train_names_list, obs_columns_list, save=True)"
   ]
  },
  {
   "cell_type": "markdown",
   "metadata": {},
   "source": [
    "Alternatively just load the pretrained model."
   ]
  },
  {
   "cell_type": "code",
   "execution_count": 57,
   "metadata": {},
   "outputs": [],
   "source": [
    "model_path = Path(\"out/core_model.joblib\")\n",
    "model = classifier.Ikarus(signatures_gmt=signatures_path, out_dir=\"out\")\n",
    "model.load_core_model(model_path)"
   ]
  },
  {
   "cell_type": "code",
   "execution_count": 58,
   "metadata": {},
   "outputs": [
    {
     "name": "stdout",
     "output_type": "stream",
     "text": [
      "Looking in indexes: https://mirrors.aliyun.com/pypi/simple/\n",
      "Requirement already satisfied: scikit-learn==0.24.2 in /usr/local/miniconda3/envs/dl/lib/python3.7/site-packages (0.24.2)\n",
      "Requirement already satisfied: numpy>=1.13.3 in /usr/local/miniconda3/envs/dl/lib/python3.7/site-packages (from scikit-learn==0.24.2) (1.18.1)\n",
      "Requirement already satisfied: threadpoolctl>=2.0.0 in /usr/local/miniconda3/envs/dl/lib/python3.7/site-packages (from scikit-learn==0.24.2) (2.1.0)\n",
      "Requirement already satisfied: joblib>=0.11 in /usr/local/miniconda3/envs/dl/lib/python3.7/site-packages (from scikit-learn==0.24.2) (0.15.1)\n",
      "Requirement already satisfied: scipy>=0.19.1 in /usr/local/miniconda3/envs/dl/lib/python3.7/site-packages (from scikit-learn==0.24.2) (1.4.1)\n",
      "\u001b[33mWARNING: You are using pip version 20.2.4; however, version 22.1.2 is available.\n",
      "You should consider upgrading via the '/usr/local/miniconda3/envs/dl/bin/python -m pip install --upgrade pip' command.\u001b[0m\n",
      "Note: you may need to restart the kernel to use updated packages.\n"
     ]
    }
   ],
   "source": [
    "pip install scikit-learn==0.24.2"
   ]
  },
  {
   "cell_type": "markdown",
   "metadata": {},
   "source": [
    "## make prediction\n",
    "We provide the AnnData of an unknown data set, make predictions and save the results."
   ]
  },
  {
   "cell_type": "code",
   "execution_count": 59,
   "metadata": {},
   "outputs": [
    {
     "data": {
      "text/plain": [
       "{'laughney': AnnData object with n_obs × n_vars = 40505 × 19222\n",
       "     obs: 'raw', 'major', 'major_hallmark_corrected', 'tier_0', 'tier_1', 'tier_2', 'tier_3', 'tier_0_hallmark_corrected'\n",
       "     var: 'gene_symbol'\n",
       "     uns: 'log1p',\n",
       " 'lee': AnnData object with n_obs × n_vars = 63689 × 33694\n",
       "     obs: 'raw', 'major', 'major_hallmark_corrected', 'tier_0', 'tier_1', 'tier_2', 'tier_3', 'tier_4', 'tier_5', 'tier_0_hallmark_corrected'\n",
       "     var: 'gene_symbol'\n",
       "     uns: 'log1p',\n",
       " 'tirosh': AnnData object with n_obs × n_vars = 5578 × 23687\n",
       "     obs: 'raw', 'major', 'tier_0', 'tier_1', 'tier_2', 'tier_3'\n",
       "     var: 'gene_symbol'\n",
       "     uns: 'log1p'}"
      ]
     },
     "execution_count": 59,
     "metadata": {},
     "output_type": "execute_result"
    }
   ],
   "source": [
    "adatas"
   ]
  },
  {
   "cell_type": "code",
   "execution_count": 60,
   "metadata": {},
   "outputs": [
    {
     "name": "stderr",
     "output_type": "stream",
     "text": [
      "/usr/local/miniconda3/envs/dl/lib/python3.7/site-packages/anndata/compat/_overloaded_dict.py:106: ImplicitModificationWarning: Trying to modify attribute `._uns` of view, initializing view as actual.\n",
      "  self.data[key] = value\n"
     ]
    },
    {
     "name": "stdout",
     "output_type": "stream",
     "text": [
      "converged at iteration step: 7 with 0.0005 < 0.001\n"
     ]
    }
   ],
   "source": [
    "_ = model.predict(adatas[\"tirosh\"], \"tirosh\", save=True)"
   ]
  },
  {
   "cell_type": "markdown",
   "metadata": {},
   "source": [
    "Your predictions `prediction.csv` are saved to your output directory as specified in the model initialization. At this point you might try to [correct the predictions by making use of CNV information](make-use-of-cnv-information-and-correct-prediction). Else, go on with the plotting part to verify the results."
   ]
  },
  {
   "cell_type": "markdown",
   "metadata": {},
   "source": [
    "## plotting\n",
    "Make plots to investigate the prediction results."
   ]
  },
  {
   "cell_type": "code",
   "execution_count": 21,
   "metadata": {
    "code_folding": [
     5
    ]
   },
   "outputs": [],
   "source": [
    "import numpy as np\n",
    "import scanpy as sc\n",
    "import matplotlib.pyplot as plt\n",
    "from sklearn import metrics\n",
    "\n",
    "def plot_confusion_matrix(\n",
    "    y_true, y_pred, classes, normalize=False, title=None, cmap=plt.cm.Blues, ax=None\n",
    "):\n",
    "    \"\"\"\n",
    "    This function prints and plots the confusion matrix.\n",
    "    Normalization can be applied by setting `normalize=True`.\n",
    "    \"\"\"\n",
    "    plt.rcParams[\"figure.figsize\"] = [6, 4]\n",
    "    # print(classes)\n",
    "    if not title:\n",
    "        if normalize:\n",
    "            title = \"Normalized confusion matrix\"\n",
    "        else:\n",
    "            title = \"Confusion matrix, without normalization\"\n",
    "\n",
    "    # Compute confusion matrix\n",
    "    cm = metrics.confusion_matrix(y_true, y_pred, labels=classes)\n",
    "    # Only use the labels that appear in the data\n",
    "    # classes = classes[unique_labels(y_true, y_pred)]\n",
    "    if normalize:\n",
    "        cm = cm.astype(\"float\") / cm.sum(axis=1)[:, np.newaxis]\n",
    "\n",
    "    if ax is None:\n",
    "        (fig, ax) = plt.subplots()\n",
    "\n",
    "    im = ax.imshow(cm, interpolation=\"nearest\", cmap=cmap)\n",
    "    ax.figure.colorbar(im, ax=ax)\n",
    "    # We want to show all ticks...\n",
    "    ax.set(\n",
    "        xticks=np.arange(cm.shape[1]),\n",
    "        yticks=np.arange(cm.shape[0]),\n",
    "        # ... and label them with the respective list entries\n",
    "        xticklabels=classes,\n",
    "        yticklabels=classes,\n",
    "        title=title,\n",
    "        ylabel=\"True label\",\n",
    "        xlabel=\"Predicted label\",\n",
    "    )\n",
    "    for item in (\n",
    "        [ax.title, ax.xaxis.label, ax.yaxis.label]\n",
    "        + ax.get_xticklabels()\n",
    "        + ax.get_yticklabels()\n",
    "    ):\n",
    "        item.set_fontsize(12)\n",
    "\n",
    "    # Rotate the tick labels and set their alignment.\n",
    "    plt.setp(ax.get_xticklabels(), rotation=45, ha=\"right\", rotation_mode=\"anchor\")\n",
    "\n",
    "    # Loop over data dimensions and create text annotations.\n",
    "    fmt = \".2f\" if normalize else \"d\"\n",
    "    thresh = cm.max() / 2.0\n",
    "    for i in range(cm.shape[0]):\n",
    "        for j in range(cm.shape[1]):\n",
    "            ax.text(\n",
    "                j,\n",
    "                i,\n",
    "                format(cm[i, j], fmt),\n",
    "                ha=\"center\",\n",
    "                va=\"center\",\n",
    "                color=\"white\" if cm[i, j] > thresh else \"black\",\n",
    "            )\n",
    "\n",
    "    return fig, ax"
   ]
  },
  {
   "cell_type": "markdown",
   "metadata": {},
   "source": [
    "Compute UMAPs and store the adata object `adata_umap.h5ad`."
   ]
  },
  {
   "cell_type": "code",
   "execution_count": 61,
   "metadata": {},
   "outputs": [],
   "source": [
    "_ = model.get_umap(adatas[\"tirosh\"], \"tirosh\", save=True)"
   ]
  },
  {
   "cell_type": "markdown",
   "metadata": {},
   "source": [
    "Load prediction results and the AnnData object including the just computed UMAP coordinates."
   ]
  },
  {
   "cell_type": "code",
   "execution_count": 62,
   "metadata": {},
   "outputs": [],
   "source": [
    "path = Path(\"out/tirosh\")\n",
    "results = pd.read_csv(path / \"prediction.csv\", index_col=0)\n",
    "adata = anndata.read_h5ad(path / \"adata_umap.h5ad\")"
   ]
  },
  {
   "cell_type": "markdown",
   "metadata": {},
   "source": [
    "Print classification metrics and show confusion matrix and UMAPs."
   ]
  },
  {
   "cell_type": "code",
   "execution_count": 63,
   "metadata": {},
   "outputs": [
    {
     "name": "stdout",
     "output_type": "stream",
     "text": [
      "              precision    recall  f1-score   support\n",
      "\n",
      "      Normal       1.00      1.00      1.00      3363\n",
      "       Tumor       1.00      1.00      1.00      2215\n",
      "\n",
      "    accuracy                           1.00      5578\n",
      "   macro avg       1.00      1.00      1.00      5578\n",
      "weighted avg       1.00      1.00      1.00      5578\n",
      "\n"
     ]
    },
    {
     "data": {
      "image/png": "[encoded data removed]",
      "text/plain": [
       "<Figure size 432x288 with 2 Axes>"
      ]
     },
     "metadata": {
      "needs_background": "light"
     },
     "output_type": "display_data"
    }
   ],
   "source": [
    "y = adata.obs.loc[:, \"tier_0\"]\n",
    "y_pred_lr = results[\"final_pred\"]\n",
    "acc = metrics.balanced_accuracy_score(y, y_pred_lr)\n",
    "print(metrics.classification_report(y, y_pred_lr, labels=[\"Normal\", \"Tumor\"]))\n",
    "fig, ax = plot_confusion_matrix(\n",
    "    y,\n",
    "    y_pred_lr,\n",
    "    classes=[\"Normal\", \"Tumor\"],\n",
    "    title=f\"confusion matrix \\n train on laughney+lee, test on tirosh \\n balanced acc: {acc:.3f}\",\n",
    ")\n",
    "fig.tight_layout()"
   ]
  },
  {
   "cell_type": "code",
   "execution_count": 64,
   "metadata": {},
   "outputs": [
    {
     "data": {
      "image/png": "[encoded data removed]",
      "text/plain": [
       "<Figure size 648x432 with 1 Axes>"
      ]
     },
     "metadata": {},
     "output_type": "display_data"
    },
    {
     "data": {
      "image/png": "[encoded data removed]",
      "text/plain": [
       "<Figure size 648x432 with 1 Axes>"
      ]
     },
     "metadata": {},
     "output_type": "display_data"
    }
   ],
   "source": [
    "adata.obs.loc[:, \"tier_0_pred_correctness\"] = \"wrongly assigned\"\n",
    "adata.obs.loc[\n",
    "    adata.obs[\"tier_0\"] == adata.obs[\"final_pred\"],\n",
    "    \"tier_0_pred_correctness\"\n",
    "] = \"correctly assigned\"\n",
    "adata.obs.loc[:, \"tier_0_pred_wrong\"] = pd.Categorical(\n",
    "    adata.obs[\"tier_0\"].copy(),\n",
    "    categories=np.array([\"Normal\", \"Tumor\", \"wrongly assigned\"]),\n",
    "    ordered=True\n",
    ")\n",
    "adata.obs.loc[\n",
    "    adata.obs[\"tier_0_pred_correctness\"] == \"wrongly assigned\",\n",
    "    \"tier_0_pred_wrong\"\n",
    "] = \"wrongly assigned\"\n",
    "\n",
    "plt.rcParams[\"figure.figsize\"] = [9, 6]\n",
    "\n",
    "colors = [\n",
    "    [\"major\"],\n",
    "    [\"tier_0_pred_wrong\"]\n",
    "    ]\n",
    "titles = [\n",
    "    [\"major types\"],\n",
    "    [\"prediction\"]\n",
    "    ]\n",
    "palettes = [\n",
    "    [\"#7f7f7f\", \"#98df8a\", \"#aec7e8\", \"#9467bd\", \"#ff0000\"],\n",
    "    [\"#aec7e8\", \"#ff0000\", \"#0b559f\"], \n",
    "]\n",
    "for color, title, palette in zip(colors, titles, palettes):\n",
    "    ax = sc.pl.umap(\n",
    "        adata, ncols=1, size=20, \n",
    "        color=color,\n",
    "        title=title,\n",
    "        wspace=0.25,\n",
    "        vmax=\"p99\",\n",
    "        legend_fontsize=12,\n",
    "        palette=palette,\n",
    "        show=False\n",
    "    )\n",
    "    for item in ([ax.title, ax.xaxis.label, ax.yaxis.label] + \n",
    "                 ax.get_xticklabels() + ax.get_yticklabels()):\n",
    "        item.set_fontsize(12)\n",
    "    ax.legend(loc=\"best\")\n",
    "    plt.tight_layout()\n",
    "    plt.show()"
   ]
  },
  {
   "cell_type": "markdown",
   "metadata": {},
   "source": [
    "## extra"
   ]
  },
  {
   "cell_type": "markdown",
   "metadata": {},
   "source": [
    "### create gene lists"
   ]
  },
  {
   "cell_type": "code",
   "execution_count": 26,
   "metadata": {},
   "outputs": [
    {
     "name": "stdout",
     "output_type": "stream",
     "text": [
      "Looking in indexes: https://mirrors.aliyun.com/pypi/simple/\n",
      "Requirement already satisfied: upsetplot in /usr/local/miniconda3/envs/dl/lib/python3.7/site-packages (0.6.1)\n",
      "Requirement already satisfied: matplotlib>=2.0 in /usr/local/miniconda3/envs/dl/lib/python3.7/site-packages (from upsetplot) (3.5.2)\n",
      "Requirement already satisfied: pandas>=0.23 in /usr/local/miniconda3/envs/dl/lib/python3.7/site-packages (from upsetplot) (1.3.5)\n",
      "Requirement already satisfied: kiwisolver>=1.0.1 in /usr/local/miniconda3/envs/dl/lib/python3.7/site-packages (from matplotlib>=2.0->upsetplot) (1.2.0)\n",
      "Requirement already satisfied: packaging>=20.0 in /usr/local/miniconda3/envs/dl/lib/python3.7/site-packages (from matplotlib>=2.0->upsetplot) (20.4)\n",
      "Requirement already satisfied: pillow>=6.2.0 in /usr/local/miniconda3/envs/dl/lib/python3.7/site-packages (from matplotlib>=2.0->upsetplot) (7.1.2)\n",
      "Requirement already satisfied: pyparsing>=2.2.1 in /usr/local/miniconda3/envs/dl/lib/python3.7/site-packages (from matplotlib>=2.0->upsetplot) (2.4.7)\n",
      "Requirement already satisfied: python-dateutil>=2.7 in /usr/local/miniconda3/envs/dl/lib/python3.7/site-packages (from matplotlib>=2.0->upsetplot) (2.8.1)\n",
      "Requirement already satisfied: numpy>=1.17 in /usr/local/miniconda3/envs/dl/lib/python3.7/site-packages (from matplotlib>=2.0->upsetplot) (1.18.1)\n",
      "Requirement already satisfied: fonttools>=4.22.0 in /usr/local/miniconda3/envs/dl/lib/python3.7/site-packages (from matplotlib>=2.0->upsetplot) (4.33.3)\n",
      "Requirement already satisfied: cycler>=0.10 in /usr/local/miniconda3/envs/dl/lib/python3.7/site-packages (from matplotlib>=2.0->upsetplot) (0.10.0)\n",
      "Requirement already satisfied: pytz>=2017.3 in /usr/local/miniconda3/envs/dl/lib/python3.7/site-packages (from pandas>=0.23->upsetplot) (2020.1)\n",
      "Requirement already satisfied: six in /usr/local/miniconda3/envs/dl/lib/python3.7/site-packages (from packaging>=20.0->matplotlib>=2.0->upsetplot) (1.15.0)\n",
      "\u001b[33mWARNING: You are using pip version 20.2.4; however, version 22.1.2 is available.\n",
      "You should consider upgrading via the '/usr/local/miniconda3/envs/dl/bin/python -m pip install --upgrade pip' command.\u001b[0m\n",
      "Note: you may need to restart the kernel to use updated packages.\n"
     ]
    }
   ],
   "source": [
    "pip install upsetplot"
   ]
  },
  {
   "cell_type": "code",
   "execution_count": 27,
   "metadata": {},
   "outputs": [],
   "source": [
    "import upsetplot\n",
    "import anndata\n",
    "import pandas as pd\n",
    "from pathlib import Path\n",
    "from ikarus import gene_list, utils"
   ]
  },
  {
   "cell_type": "markdown",
   "metadata": {},
   "source": [
    "#### tumor"
   ]
  },
  {
   "cell_type": "markdown",
   "metadata": {},
   "source": [
    "First, we define the input datasets used to create the gene lists, the upregulated and downregulated cell types. Here, we consider six different pair-wise comparisons:\n",
    "- Tumor vs. Other\n",
    "- Tumor vs. Epithelial\n",
    "- Tumor vs. Immune\n",
    "- Tumor vs. Fibroblast\n",
    "- Tumor vs. Endothelial\n",
    "- Tumor vs. Pericyte"
   ]
  },
  {
   "cell_type": "code",
   "execution_count": 65,
   "metadata": {},
   "outputs": [],
   "source": [
    "paths = [\n",
    "    Path(\"data/laughney20_lung/\"),\n",
    "    Path(\"data/lee20_crc/\")\n",
    "]\n",
    "names = [\n",
    "    \"laughney\",\n",
    "    \"lee\"\n",
    "]\n",
    "obs_names = [\n",
    "    \"major_hallmark_corrected\",\n",
    "    \"major_hallmark_corrected\"\n",
    "]\n",
    "label_upregs = [\n",
    "    \"Tumor\",\n",
    "    \"Tumor\",\n",
    "    \"Tumor\",\n",
    "    \"Tumor\",\n",
    "    \"Tumor\",\n",
    "    \"Tumor\"\n",
    "]\n",
    "label_downregs = [\n",
    "    \"Other\",\n",
    "    \"Epithelial\",\n",
    "    \"Immune\",\n",
    "    \"Fibroblast\",\n",
    "    \"Endothelial\",\n",
    "    \"Pericyte\"\n",
    "]\n",
    "adatas = {}\n",
    "for path, name in zip(paths, names):\n",
    "    adatas[name] = anndata.read_h5ad(path / \"adata.h5ad\")"
   ]
  },
  {
   "cell_type": "markdown",
   "metadata": {},
   "source": [
    "We loop over all pair-wise comparisons and over both input datasets, and perform t-tests with overestimated variance so that we obtain for each gene two (one for each dataset) estimates of log2fold changes. For integrating the outcome of both datasets, first of all we just consider genes available in both datasets (intersection). Then we compute for each gene the weighted average of log2fold changes. For each pair-wise comparison we take the top 300 of upregulated (highest averaged log2fold changes) genes."
   ]
  },
  {
   "cell_type": "code",
   "execution_count": 66,
   "metadata": {},
   "outputs": [
    {
     "name": "stdout",
     "output_type": "stream",
     "text": [
      "Either Tumor or Fibroblast is not available in given obs_name. None is returned.\n",
      "Either Tumor or Endothelial is not available in given obs_name. None is returned.\n",
      "Either Tumor or Pericyte is not available in given obs_name. None is returned.\n"
     ]
    }
   ],
   "source": [
    "signatures = gene_list.create_all(\n",
    "    label_upregs_list=label_upregs,\n",
    "    label_downregs_list=label_downregs,\n",
    "    adatas_dict=adatas,\n",
    "    names_list=names,\n",
    "    obs_names_list=obs_names,\n",
    "    integration_fun=utils.intersection_fun,\n",
    "    top_x=300\n",
    ")"
   ]
  },
  {
   "cell_type": "markdown",
   "metadata": {},
   "source": [
    "Here we use UpSetPlots to visualize the amount of genes overlapping across multiple pair-wise comparisons."
   ]
  },
  {
   "cell_type": "code",
   "execution_count": 67,
   "metadata": {},
   "outputs": [
    {
     "data": {
      "image/png": "[encoded data removed]",
      "text/plain": [
       "<Figure size 320x384 with 4 Axes>"
      ]
     },
     "metadata": {
      "needs_background": "light"
     },
     "output_type": "display_data"
    }
   ],
   "source": [
    "contents = upsetplot.from_contents(signatures)\n",
    "_ = upsetplot.plot(contents, show_counts=\"%d\")"
   ]
  },
  {
   "cell_type": "markdown",
   "metadata": {},
   "source": [
    "Get the intersection of all the different gene lists. This leads to our final tumor gene list of 162 genes."
   ]
  },
  {
   "cell_type": "code",
   "execution_count": 68,
   "metadata": {},
   "outputs": [
    {
     "name": "stderr",
     "output_type": "stream",
     "text": [
      "/usr/local/miniconda3/envs/dl/lib/python3.7/site-packages/ipykernel_launcher.py:2: PerformanceWarning: indexing past lexsort depth may impact performance.\n",
      "  \n"
     ]
    }
   ],
   "source": [
    "tumor_genes_intersection = contents.loc[\n",
    "    (True, True, True, True, True, True)\n",
    "].values.ravel().tolist()"
   ]
  },
  {
   "cell_type": "code",
   "execution_count": 69,
   "metadata": {},
   "outputs": [],
   "source": [
    "tumor_genes = tumor_genes_intersection"
   ]
  },
  {
   "cell_type": "markdown",
   "metadata": {},
   "source": [
    "Later, when creating the normal gene list, we will remove those genes, which were also upregulated in the pair-wise comparisons from above (Tumor vs. X). For that purpose, we create here the union of the tumor genes coming from all pair-wise comparisons. This is not used as our final Tumor gene list. It's just used to refine the Normal gene list."
   ]
  },
  {
   "cell_type": "code",
   "execution_count": 70,
   "metadata": {},
   "outputs": [],
   "source": [
    "tumor_genes_union = []\n",
    "for i in signatures.values():\n",
    "    tumor_genes_union += i\n",
    "tumor_genes_union = list(set(tumor_genes_union)) # unique genes"
   ]
  },
  {
   "cell_type": "markdown",
   "metadata": {},
   "source": [
    "#### normal\n",
    "Basically repeat the above procedure for the normal gene list. Though, here we take the union of genes upregulated in non-tumor cells.\n",
    "\n",
    "First, we define the input datasets used to create the gene lists, the upregulated and downregulated cell types. Here, we consider six different pair-wise comparisons:\n",
    "- Other vs. Tumor\n",
    "- Epithelial vs. Tumor\n",
    "- Immune vs. Tumor\n",
    "- Fibroblast vs. Tumor\n",
    "- Endothelial vs. Tumor\n",
    "- Pericyte vs. Tumor"
   ]
  },
  {
   "cell_type": "code",
   "execution_count": 71,
   "metadata": {},
   "outputs": [],
   "source": [
    "paths = [\n",
    "    Path(\"data/laughney20_lung/\"),\n",
    "    Path(\"data/lee20_crc/\")\n",
    "]\n",
    "names = [\n",
    "    \"laughney\",\n",
    "    \"lee\"\n",
    "]\n",
    "obs_names = [\n",
    "    \"major_hallmark_corrected\",\n",
    "    \"major_hallmark_corrected\"\n",
    "]\n",
    "label_downregs = [\n",
    "    \"Tumor\",\n",
    "    \"Tumor\",\n",
    "    \"Tumor\",\n",
    "    \"Tumor\",\n",
    "    \"Tumor\",\n",
    "    \"Tumor\"\n",
    "]\n",
    "label_upregs = [\n",
    "    \"Other\",\n",
    "    \"Epithelial\",\n",
    "    \"Immune\",\n",
    "    \"Fibroblast\",\n",
    "    \"Endothelial\",\n",
    "    \"Pericyte\"\n",
    "]\n",
    "adatas = {}\n",
    "for path, name in zip(paths, names):\n",
    "    adatas[name] = anndata.read_h5ad(path / \"adata.h5ad\")"
   ]
  },
  {
   "cell_type": "markdown",
   "metadata": {},
   "source": [
    "We loop over all pair-wise comparisons and over both input datasets, and perform t-tests with overestimated variance so that we obtain for each gene two (one for each dataset) estimates of log2fold changes. For integrating the outcome of both datasets, first of all we just consider genes available in both datasets (intersection). Then we compute for each gene the weighted average of log2fold changes. For each pair-wise comparison we take the top 300 of upregulated (highest averaged log2fold changes) genes."
   ]
  },
  {
   "cell_type": "code",
   "execution_count": 72,
   "metadata": {},
   "outputs": [
    {
     "name": "stdout",
     "output_type": "stream",
     "text": [
      "Either Fibroblast or Tumor is not available in given obs_name. None is returned.\n",
      "Either Endothelial or Tumor is not available in given obs_name. None is returned.\n",
      "Either Pericyte or Tumor is not available in given obs_name. None is returned.\n"
     ]
    }
   ],
   "source": [
    "signatures = gene_list.create_all(\n",
    "    label_upregs_list=label_upregs,\n",
    "    label_downregs_list=label_downregs,\n",
    "    adatas_dict=adatas,\n",
    "    names_list=names,\n",
    "    obs_names_list=obs_names,\n",
    "    integration_fun=utils.intersection_fun,\n",
    "    top_x=300\n",
    ")"
   ]
  },
  {
   "cell_type": "markdown",
   "metadata": {},
   "source": [
    "Again. here we use UpSetPlots to visualize the amount of genes overlapping across multiple pair-wise comparisons."
   ]
  },
  {
   "cell_type": "code",
   "execution_count": 73,
   "metadata": {},
   "outputs": [
    {
     "data": {
      "image/png": "[encoded data removed]",
      "text/plain": [
       "<Figure size 672x384 with 4 Axes>"
      ]
     },
     "metadata": {
      "needs_background": "light"
     },
     "output_type": "display_data"
    }
   ],
   "source": [
    "contents = upsetplot.from_contents(signatures)\n",
    "_ = upsetplot.plot(contents, show_counts=\"%d\")"
   ]
  },
  {
   "cell_type": "markdown",
   "metadata": {},
   "source": [
    "Get unique genes from the six pairwise comparisons."
   ]
  },
  {
   "cell_type": "code",
   "execution_count": 74,
   "metadata": {},
   "outputs": [],
   "source": [
    "normal_genes_union = []\n",
    "for i in signatures.values():\n",
    "    normal_genes_union += i\n",
    "normal_genes_union = list(set(normal_genes_union)) # unique genes"
   ]
  },
  {
   "cell_type": "markdown",
   "metadata": {},
   "source": [
    "Remove genes which are overlapping with the union of tumor genes from all pair-wise comparisons with Tumor being the upregulated class (see above)."
   ]
  },
  {
   "cell_type": "code",
   "execution_count": 75,
   "metadata": {},
   "outputs": [],
   "source": [
    "overlap = list(set(tumor_genes_union) & set(normal_genes_union))\n",
    "normal_genes = list(set(normal_genes_union) - set(overlap))"
   ]
  },
  {
   "cell_type": "markdown",
   "metadata": {},
   "source": [
    "Save signatures as `.gmt` file."
   ]
  },
  {
   "cell_type": "code",
   "execution_count": 76,
   "metadata": {},
   "outputs": [],
   "source": [
    "gene_list.save_gmt([normal_genes, tumor_genes], [\"Normal\", \"Tumor\"], out_dir=\"out\")"
   ]
  },
  {
   "cell_type": "markdown",
   "metadata": {},
   "source": [
    "### make use of cnv information and correct prediction\n",
    "Altough, for this particular test data set this step might seem unnecessary, incorporating cnv information might help to improve prediction results.\n",
    "\n",
    "[inferCNV, v1.3.3](https://github.com/broadinstitute/inferCNV) was used to compute CNV scores.  \n",
    "\n",
    "The download takes about 1.1 GB of disk space.  "
   ]
  },
  {
   "cell_type": "code",
   "execution_count": 77,
   "metadata": {},
   "outputs": [],
   "source": [
    "Path(\"data\").mkdir(exist_ok=True)\n",
    "\n",
    "if not Path(\"data/tirosh17_headneck/infercnv.observations.txt\").is_file():\n",
    "    Path(\"data/tirosh17_headneck\").mkdir(exist_ok=True)\n",
    "    urllib.request.urlretrieve(\n",
    "        url=\"https://bimsbstatic.mdc-berlin.de/akalin/Ikarus/part_1/data/tirosh17_headneck/infercnv.observations.txt\",\n",
    "        filename=Path(\"data/tirosh17_headneck/infercnv.observations.txt\")\n",
    "    )"
   ]
  },
  {
   "cell_type": "code",
   "execution_count": 78,
   "metadata": {},
   "outputs": [],
   "source": [
    "cnv_path = Path(\"data/tirosh17_headneck/infercnv.observations.txt\")\n",
    "cnv = pd.read_csv(cnv_path, sep=\" \")\n",
    "cnv.columns = cnv.columns.astype(\"int\")\n",
    "cnv.sort_index(axis=1, inplace=True)\n",
    "cnv = cnv.T"
   ]
  },
  {
   "cell_type": "code",
   "execution_count": 79,
   "metadata": {},
   "outputs": [
    {
     "data": {
      "text/html": [
       "<div>\n",
       "<style scoped>\n",
       "    .dataframe tbody tr th:only-of-type {\n",
       "        vertical-align: middle;\n",
       "    }\n",
       "\n",
       "    .dataframe tbody tr th {\n",
       "        vertical-align: top;\n",
       "    }\n",
       "\n",
       "    .dataframe thead th {\n",
       "        text-align: right;\n",
       "    }\n",
       "</style>\n",
       "<table border=\"1\" class=\"dataframe\">\n",
       "  <thead>\n",
       "    <tr style=\"text-align: right;\">\n",
       "      <th></th>\n",
       "      <th>WASH7P</th>\n",
       "      <th>LINC00115</th>\n",
       "      <th>FAM41C</th>\n",
       "      <th>NOC2L</th>\n",
       "      <th>PLEKHN1</th>\n",
       "      <th>HES4</th>\n",
       "      <th>ISG15</th>\n",
       "      <th>AGRN</th>\n",
       "      <th>C1orf159</th>\n",
       "      <th>TNFRSF18</th>\n",
       "      <th>...</th>\n",
       "      <th>SBF1</th>\n",
       "      <th>LMF2</th>\n",
       "      <th>NCAPH2</th>\n",
       "      <th>SCO2</th>\n",
       "      <th>TYMP</th>\n",
       "      <th>ODF3B</th>\n",
       "      <th>CPT1B</th>\n",
       "      <th>CHKB</th>\n",
       "      <th>ARSA</th>\n",
       "      <th>RABL2B</th>\n",
       "    </tr>\n",
       "  </thead>\n",
       "  <tbody>\n",
       "    <tr>\n",
       "      <th>0</th>\n",
       "      <td>1.002759</td>\n",
       "      <td>1.002759</td>\n",
       "      <td>1.002759</td>\n",
       "      <td>1.002759</td>\n",
       "      <td>1.002759</td>\n",
       "      <td>1.002759</td>\n",
       "      <td>1.002759</td>\n",
       "      <td>1.002759</td>\n",
       "      <td>1.002759</td>\n",
       "      <td>1.002759</td>\n",
       "      <td>...</td>\n",
       "      <td>1.002759</td>\n",
       "      <td>1.002759</td>\n",
       "      <td>1.002759</td>\n",
       "      <td>1.002759</td>\n",
       "      <td>1.002759</td>\n",
       "      <td>1.002759</td>\n",
       "      <td>1.002759</td>\n",
       "      <td>1.002759</td>\n",
       "      <td>1.002759</td>\n",
       "      <td>1.002759</td>\n",
       "    </tr>\n",
       "    <tr>\n",
       "      <th>1</th>\n",
       "      <td>1.002759</td>\n",
       "      <td>1.002759</td>\n",
       "      <td>1.002759</td>\n",
       "      <td>1.002759</td>\n",
       "      <td>1.002759</td>\n",
       "      <td>1.002759</td>\n",
       "      <td>1.002759</td>\n",
       "      <td>1.002759</td>\n",
       "      <td>1.002759</td>\n",
       "      <td>1.002759</td>\n",
       "      <td>...</td>\n",
       "      <td>0.850724</td>\n",
       "      <td>0.850990</td>\n",
       "      <td>0.851188</td>\n",
       "      <td>0.850058</td>\n",
       "      <td>0.849016</td>\n",
       "      <td>0.848378</td>\n",
       "      <td>0.847733</td>\n",
       "      <td>0.847032</td>\n",
       "      <td>0.846197</td>\n",
       "      <td>0.845542</td>\n",
       "    </tr>\n",
       "  </tbody>\n",
       "</table>\n",
       "<p>2 rows × 11991 columns</p>\n",
       "</div>"
      ],
      "text/plain": [
       "     WASH7P  LINC00115    FAM41C     NOC2L   PLEKHN1      HES4     ISG15  \\\n",
       "0  1.002759   1.002759  1.002759  1.002759  1.002759  1.002759  1.002759   \n",
       "1  1.002759   1.002759  1.002759  1.002759  1.002759  1.002759  1.002759   \n",
       "\n",
       "       AGRN  C1orf159  TNFRSF18  ...      SBF1      LMF2    NCAPH2      SCO2  \\\n",
       "0  1.002759  1.002759  1.002759  ...  1.002759  1.002759  1.002759  1.002759   \n",
       "1  1.002759  1.002759  1.002759  ...  0.850724  0.850990  0.851188  0.850058   \n",
       "\n",
       "       TYMP     ODF3B     CPT1B      CHKB      ARSA    RABL2B  \n",
       "0  1.002759  1.002759  1.002759  1.002759  1.002759  1.002759  \n",
       "1  0.849016  0.848378  0.847733  0.847032  0.846197  0.845542  \n",
       "\n",
       "[2 rows x 11991 columns]"
      ]
     },
     "execution_count": 79,
     "metadata": {},
     "output_type": "execute_result"
    }
   ],
   "source": [
    "cnv.head(2)"
   ]
  },
  {
   "cell_type": "code",
   "execution_count": 89,
   "metadata": {},
   "outputs": [
    {
     "data": {
      "text/plain": [
       "{'laughney': AnnData object with n_obs × n_vars = 40505 × 19222\n",
       "     obs: 'raw', 'major', 'major_hallmark_corrected', 'tier_0', 'tier_1', 'tier_2', 'tier_3', 'tier_0_hallmark_corrected'\n",
       "     var: 'gene_symbol'\n",
       "     uns: 'log1p',\n",
       " 'lee': AnnData object with n_obs × n_vars = 63689 × 33694\n",
       "     obs: 'raw', 'major', 'major_hallmark_corrected', 'tier_0', 'tier_1', 'tier_2', 'tier_3', 'tier_4', 'tier_5', 'tier_0_hallmark_corrected'\n",
       "     var: 'gene_symbol'\n",
       "     uns: 'log1p',\n",
       " 'tirosh': AnnData object with n_obs × n_vars = 5578 × 23687\n",
       "     obs: 'raw', 'major', 'tier_0', 'tier_1', 'tier_2', 'tier_3'\n",
       "     var: 'gene_symbol'\n",
       "     uns: 'log1p'}"
      ]
     },
     "execution_count": 89,
     "metadata": {},
     "output_type": "execute_result"
    }
   ],
   "source": [
    "adatas"
   ]
  },
  {
   "cell_type": "code",
   "execution_count": 91,
   "metadata": {},
   "outputs": [
    {
     "data": {
      "text/plain": [
       "(AnnData object with n_obs × n_vars = 5578 × 23687\n",
       "     obs: 'raw', 'major', 'tier_0', 'tier_1', 'tier_2', 'tier_3'\n",
       "     var: 'gene_symbol'\n",
       "     uns: 'log1p',\n",
       "         WASH7P  LINC00115    FAM41C     NOC2L   PLEKHN1      HES4     ISG15  \\\n",
       " 0     1.002759   1.002759  1.002759  1.002759  1.002759  1.002759  1.002759   \n",
       " 1     1.002759   1.002759  1.002759  1.002759  1.002759  1.002759  1.002759   \n",
       " 2     1.002759   1.002759  1.002759  1.002759  1.002759  1.002759  1.002759   \n",
       " 3     1.002759   1.002759  1.002759  1.002759  1.002759  1.002759  1.002759   \n",
       " 4     1.002759   1.002759  1.002759  1.002759  1.002759  1.002759  1.002759   \n",
       " ...        ...        ...       ...       ...       ...       ...       ...   \n",
       " 5573  1.002759   1.002759  1.002759  1.002759  1.002759  1.002759  1.002759   \n",
       " 5574  1.002759   1.002759  1.002759  1.002759  1.002759  1.002759  1.002759   \n",
       " 5575  1.002759   1.002759  1.002759  1.002759  1.002759  1.002759  1.002759   \n",
       " 5576  0.839629   0.839835  0.839926  0.839745  0.839978  0.840658  0.840864   \n",
       " 5577  0.872574   0.871744  0.870811  0.870353  0.869061  0.867821  0.866746   \n",
       " \n",
       "           AGRN  C1orf159  TNFRSF18  ...      SBF1      LMF2    NCAPH2  \\\n",
       " 0     1.002759  1.002759  1.002759  ...  1.002759  1.002759  1.002759   \n",
       " 1     1.002759  1.002759  1.002759  ...  0.850724  0.850990  0.851188   \n",
       " 2     1.002759  1.002759  1.002759  ...  1.214798  1.214798  1.214798   \n",
       " 3     1.002759  1.002759  1.002759  ...  0.841163  0.837769  0.835074   \n",
       " 4     1.002759  1.002759  1.002759  ...  1.148335  1.153735  1.159183   \n",
       " ...        ...       ...       ...  ...       ...       ...       ...   \n",
       " 5573  1.002759  1.002759  1.002759  ...  1.214798  1.214798  1.214798   \n",
       " 5574  1.002759  1.002759  1.002759  ...  1.002759  1.002759  1.002759   \n",
       " 5575  1.002759  1.002759  1.002759  ...  1.002759  1.002759  1.002759   \n",
       " 5576  0.841940  0.842363  0.842772  ...  1.002759  1.002759  1.002759   \n",
       " 5577  0.866607  0.866389  0.864939  ...  1.164895  1.167642  1.170188   \n",
       " \n",
       "           SCO2      TYMP     ODF3B     CPT1B      CHKB      ARSA    RABL2B  \n",
       " 0     1.002759  1.002759  1.002759  1.002759  1.002759  1.002759  1.002759  \n",
       " 1     0.850058  0.849016  0.848378  0.847733  0.847032  0.846197  0.845542  \n",
       " 2     1.214798  1.214798  1.214798  1.214798  1.214798  1.214798  1.214798  \n",
       " 3     0.832528  0.829974  0.827717  0.825345  0.822796  0.820780  0.818904  \n",
       " 4     1.164024  1.167790  1.170624  1.173988  1.176264  1.179480  1.183633  \n",
       " ...        ...       ...       ...       ...       ...       ...       ...  \n",
       " 5573  1.214798  1.213835  1.210520  1.208572  1.205271  1.202648  1.200400  \n",
       " 5574  1.002759  1.002759  1.002759  1.002759  1.002759  1.002759  1.002759  \n",
       " 5575  1.002759  1.002759  1.002759  1.002759  1.002759  1.002759  1.002759  \n",
       " 5576  1.002759  1.002759  1.002759  1.002759  1.002759  1.002759  1.002759  \n",
       " 5577  1.171881  1.172792  1.173277  1.173392  1.173860  1.174863  1.176645  \n",
       " \n",
       " [5578 rows x 11991 columns])"
      ]
     },
     "execution_count": 91,
     "metadata": {},
     "output_type": "execute_result"
    }
   ],
   "source": [
    "adatas[\"tirosh\"],cnv"
   ]
  },
  {
   "cell_type": "code",
   "execution_count": 92,
   "metadata": {},
   "outputs": [],
   "source": [
    "_ = model.cnv_correct(cnv, adatas[\"tirosh\"], save=True, name=\"tirosh\")"
   ]
  },
  {
   "cell_type": "markdown",
   "metadata": {},
   "source": [
    "Verify CNV corrected results."
   ]
  },
  {
   "cell_type": "code",
   "execution_count": 93,
   "metadata": {},
   "outputs": [],
   "source": [
    "path = Path(\"out/tirosh\")\n",
    "results = pd.read_csv(path / \"prediction.csv\", index_col=0)\n",
    "adata = anndata.read_h5ad(path / \"adata_umap.h5ad\")"
   ]
  },
  {
   "cell_type": "code",
   "execution_count": 94,
   "metadata": {},
   "outputs": [
    {
     "data": {
      "text/html": [
       "<div>\n",
       "<style scoped>\n",
       "    .dataframe tbody tr th:only-of-type {\n",
       "        vertical-align: middle;\n",
       "    }\n",
       "\n",
       "    .dataframe tbody tr th {\n",
       "        vertical-align: top;\n",
       "    }\n",
       "\n",
       "    .dataframe thead th {\n",
       "        text-align: right;\n",
       "    }\n",
       "</style>\n",
       "<table border=\"1\" class=\"dataframe\">\n",
       "  <thead>\n",
       "    <tr style=\"text-align: right;\">\n",
       "      <th></th>\n",
       "      <th>Normal</th>\n",
       "      <th>Tumor</th>\n",
       "      <th>core_pred</th>\n",
       "      <th>core_pred_proba_Normal</th>\n",
       "      <th>core_pred_proba_Tumor</th>\n",
       "      <th>final_pred</th>\n",
       "      <th>final_pred_proba_Normal</th>\n",
       "      <th>final_pred_proba_Tumor</th>\n",
       "      <th>final_pred_cnv_corrected</th>\n",
       "    </tr>\n",
       "  </thead>\n",
       "  <tbody>\n",
       "    <tr>\n",
       "      <th>0</th>\n",
       "      <td>0.594332</td>\n",
       "      <td>0.022227</td>\n",
       "      <td>Normal</td>\n",
       "      <td>0.860585</td>\n",
       "      <td>0.139415</td>\n",
       "      <td>Normal</td>\n",
       "      <td>0.856921</td>\n",
       "      <td>0.143079</td>\n",
       "      <td>Normal</td>\n",
       "    </tr>\n",
       "    <tr>\n",
       "      <th>1</th>\n",
       "      <td>0.497360</td>\n",
       "      <td>0.018565</td>\n",
       "      <td>Normal</td>\n",
       "      <td>0.869966</td>\n",
       "      <td>0.130034</td>\n",
       "      <td>Normal</td>\n",
       "      <td>0.839709</td>\n",
       "      <td>0.160291</td>\n",
       "      <td>Normal</td>\n",
       "    </tr>\n",
       "  </tbody>\n",
       "</table>\n",
       "</div>"
      ],
      "text/plain": [
       "     Normal     Tumor core_pred  core_pred_proba_Normal  \\\n",
       "0  0.594332  0.022227    Normal                0.860585   \n",
       "1  0.497360  0.018565    Normal                0.869966   \n",
       "\n",
       "   core_pred_proba_Tumor final_pred  final_pred_proba_Normal  \\\n",
       "0               0.139415     Normal                 0.856921   \n",
       "1               0.130034     Normal                 0.839709   \n",
       "\n",
       "   final_pred_proba_Tumor final_pred_cnv_corrected  \n",
       "0                0.143079                   Normal  \n",
       "1                0.160291                   Normal  "
      ]
     },
     "execution_count": 94,
     "metadata": {},
     "output_type": "execute_result"
    }
   ],
   "source": [
    "results.head(2)"
   ]
  },
  {
   "cell_type": "code",
   "execution_count": 95,
   "metadata": {},
   "outputs": [
    {
     "name": "stdout",
     "output_type": "stream",
     "text": [
      "              precision    recall  f1-score   support\n",
      "\n",
      "      Normal       1.00      1.00      1.00      3363\n",
      "       Tumor       1.00      1.00      1.00      2215\n",
      "\n",
      "    accuracy                           1.00      5578\n",
      "   macro avg       1.00      1.00      1.00      5578\n",
      "weighted avg       1.00      1.00      1.00      5578\n",
      "\n"
     ]
    },
    {
     "data": {
      "image/png": "[encoded data removed]",
      "text/plain": [
       "<Figure size 432x288 with 2 Axes>"
      ]
     },
     "metadata": {
      "needs_background": "light"
     },
     "output_type": "display_data"
    }
   ],
   "source": [
    "y = adata.obs.loc[:, \"tier_0\"]\n",
    "y_pred_lr = results[\"final_pred_cnv_corrected\"]\n",
    "acc = metrics.balanced_accuracy_score(y, y_pred_lr)\n",
    "print(metrics.classification_report(y, y_pred_lr, labels=[\"Normal\", \"Tumor\"]))\n",
    "fig, ax = plot_confusion_matrix(\n",
    "    y,\n",
    "    y_pred_lr,\n",
    "    classes=[\"Normal\", \"Tumor\"],\n",
    "    title=f\"confusion matrix \\n train on laughney+lee, test on tirosh \\n cnv corrected \\n balanced acc: {acc:.3f}\",\n",
    ")\n",
    "fig.tight_layout()"
   ]
  },
  {
   "cell_type": "code",
   "execution_count": null,
   "metadata": {},
   "outputs": [],
   "source": []
  },
  {
   "cell_type": "code",
   "execution_count": null,
   "metadata": {},
   "outputs": [],
   "source": []
  }
 ],
 "metadata": {
  "kernelspec": {
   "display_name": "Python 3",
   "language": "python",
   "name": "python3"
  },
  "language_info": {
   "codemirror_mode": {
    "name": "ipython",
    "version": 3
   },
   "file_extension": ".py",
   "mimetype": "text/x-python",
   "name": "python",
   "nbconvert_exporter": "python",
   "pygments_lexer": "ipython3",
   "version": "3.7.7"
  },
  "vscode": {
   "interpreter": {
    "hash": "594cb19945cb76d484cb057ef47daee4ba9ca55329c8b1afb93fee0138eed763"
   }
  }
 },
 "nbformat": 4,
 "nbformat_minor": 4
}
